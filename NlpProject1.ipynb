{
 "cells": [
  {
   "cell_type": "code",
   "execution_count": 1,
   "id": "aca99280",
   "metadata": {},
   "outputs": [
    {
     "name": "stderr",
     "output_type": "stream",
     "text": [
      "[nltk_data] Downloading package punkt to\n",
      "[nltk_data]     C:\\Users\\leulfeven\\AppData\\Roaming\\nltk_data...\n",
      "[nltk_data]   Package punkt is already up-to-date!\n",
      "[nltk_data] Downloading package stopwords to\n",
      "[nltk_data]     C:\\Users\\leulfeven\\AppData\\Roaming\\nltk_data...\n",
      "[nltk_data]   Package stopwords is already up-to-date!\n"
     ]
    },
    {
     "name": "stdout",
     "output_type": "stream",
     "text": [
      "\n",
      "Overall Accuracy: 1.00\n",
      "\n",
      "Classification Report:\n",
      "                  precision    recall  f1-score   support\n",
      "\n",
      "    geographical       1.00      1.00      1.00         2\n",
      "non-geographical       1.00      1.00      1.00         2\n",
      "\n",
      "        accuracy                           1.00         4\n",
      "       macro avg       1.00      1.00      1.00         4\n",
      "    weighted avg       1.00      1.00      1.00         4\n",
      "\n"
     ]
    }
   ],
   "source": [
    "import requests\n",
    "from sklearn.feature_extraction.text import TfidfVectorizer\n",
    "from sklearn.naive_bayes import MultinomialNB\n",
    "from sklearn.model_selection import train_test_split\n",
    "from sklearn.metrics import accuracy_score, classification_report\n",
    "from nltk.tokenize import word_tokenize\n",
    "from nltk.corpus import stopwords\n",
    "import nltk\n",
    "\n",
    "nltk.download('punkt')\n",
    "nltk.download('stopwords')\n",
    "\n",
    "# Wikipedia API endpoint\n",
    "wiki_api_url = \"https://en.wikipedia.org/w/api.php\"\n",
    "\n",
    "# Function to fetch Wikipedia content for a given title\n",
    "def fetch_wikipedia_content(title, num_sentences=2):\n",
    "    params = {\n",
    "        'action': 'query',\n",
    "        'format': 'json',\n",
    "        'titles': title,\n",
    "        'prop': 'extracts',\n",
    "        'exintro': True,\n",
    "        'explaintext': True,\n",
    "        'exsentences': num_sentences,\n",
    "    }\n",
    "    response = requests.get(wiki_api_url, params=params)\n",
    "    data = response.json()\n",
    "    page_id = next(iter(data['query']['pages']))\n",
    "    return data['query']['pages'][page_id]['extract']\n",
    "\n",
    "# Function to pre-process text\n",
    "def preprocess_text(text):\n",
    "    stop_words = set(stopwords.words('english'))\n",
    "    words = [word.lower() for word in word_tokenize(text) if word.isalnum() and word.lower() not in stop_words]\n",
    "    return ' '.join(words)\n",
    "\n",
    "# List of titles for geographical and non-geographical categories\n",
    "geographical_titles = [\"Geography\", \"Physical_geography\", \"Human_geography\", \"Cartography\", \"Climate\", \"Biogeography\", \"Tourism\", \"Countries_by_area\"]\n",
    "non_geographical_titles = [\"Technology\", \"History_of_technology\", \"Engineering\", \"Computer_science\", \"Space_exploration\", \"Robotics\", \"Artificial_intelligence\", \"Automotive_technology\"]\n",
    "\n",
    "# Fetch content for geographical articles\n",
    "geographical_texts = [fetch_wikipedia_content(title) for title in geographical_titles]\n",
    "\n",
    "# Fetch content for non-geographical articles\n",
    "non_geographical_texts = [fetch_wikipedia_content(title) for title in non_geographical_titles]\n",
    "\n",
    "# Combine and preprocess data\n",
    "all_texts = geographical_texts + non_geographical_texts\n",
    "labels = ['geographical'] * len(geographical_texts) + ['non-geographical'] * len(non_geographical_texts)\n",
    "preprocessed_texts = [preprocess_text(text) for text in all_texts]\n",
    "\n",
    "# Feature extraction using TF-IDF with different parameters\n",
    "vectorizer = TfidfVectorizer(ngram_range=(1, 3), min_df=1, max_features=1000)  # Experiment with parameters\n",
    "X = vectorizer.fit_transform(preprocessed_texts)\n",
    "y = labels\n",
    "\n",
    "# Split the data into training and testing sets with stratification\n",
    "X_train, X_test, y_train, y_test = train_test_split(X, y, test_size=0.2, random_state=42, stratify=y)\n",
    "\n",
    "# Train a Naive Bayes model with different alpha value\n",
    "clf = MultinomialNB(alpha=0.1)  # Experiment with alpha\n",
    "clf.fit(X_train, y_train)\n",
    "\n",
    "# Predictions for the testing data\n",
    "y_pred = clf.predict(X_test)\n",
    "\n",
    "# Evaluation\n",
    "accuracy = accuracy_score(y_test, y_pred)\n",
    "print(f\"\\nOverall Accuracy: {accuracy:.2f}\")\n",
    "\n",
    "print(\"\\nClassification Report:\")\n",
    "print(classification_report(y_test, y_pred))\n"
   ]
  },
  {
   "cell_type": "code",
   "execution_count": null,
   "id": "93713004",
   "metadata": {},
   "outputs": [],
   "source": []
  }
 ],
 "metadata": {
  "kernelspec": {
   "display_name": "Python 3 (ipykernel)",
   "language": "python",
   "name": "python3"
  },
  "language_info": {
   "codemirror_mode": {
    "name": "ipython",
    "version": 3
   },
   "file_extension": ".py",
   "mimetype": "text/x-python",
   "name": "python",
   "nbconvert_exporter": "python",
   "pygments_lexer": "ipython3",
   "version": "3.10.9"
  }
 },
 "nbformat": 4,
 "nbformat_minor": 5
}
